{
 "cells": [
  {
   "cell_type": "code",
   "execution_count": 1,
   "metadata": {},
   "outputs": [],
   "source": [
    "import os\n",
    "import time"
   ]
  },
  {
   "cell_type": "code",
   "execution_count": 18,
   "metadata": {},
   "outputs": [],
   "source": [
    "from cozepy import COZE_CN_BASE_URL\n",
    "\n",
    "# Get an access_token through personal access token or oauth.\n",
    "coze_api_token = \"pat_3xeECicYAnAijwCVUaeMuZEvN4WLimnAfrmu9HApdw5amSPRsu142pqi49RLUVZV\" # os.getenv(\"COZE_API_TOKEN\")\n",
    "# The default access is api.coze.com, but if you need to access api.coze.cn,\n",
    "# please use base_url to configure the api endpoint to access\n",
    "coze_api_base = os.getenv(\"COZE_API_BASE\") or COZE_CN_BASE_URL"
   ]
  },
  {
   "cell_type": "code",
   "execution_count": 3,
   "metadata": {},
   "outputs": [],
   "source": [
    "from cozepy import Coze, TokenAuth, Message, ChatStatus, MessageContentType  # noqa\n"
   ]
  },
  {
   "cell_type": "code",
   "execution_count": 4,
   "metadata": {},
   "outputs": [],
   "source": [
    "# Init the Coze client through the access_token.\n",
    "coze = Coze(auth=TokenAuth(token=coze_api_token), base_url=coze_api_base)\n",
    "\n",
    "# Create a bot instance in Coze, copy the last number from the web link as the bot's ID.\n",
    "bot_id = os.getenv(\"COZE_BOT_ID\") or \"7471918474705747977\"\n",
    "# The user id identifies the identity of a user. Developers can use a custom business ID\n",
    "# or a random string.\n",
    "user_id = \"macbook\"\n"
   ]
  },
  {
   "cell_type": "code",
   "execution_count": 5,
   "metadata": {},
   "outputs": [],
   "source": [
    "    # Call the coze.chat.create method to create a chat. The create method is a non-streaming\n",
    "    # chat and will return a Chat class. Developers should periodically check the status of the\n",
    "    # chat and handle them separately according to different states.\n",
    "chat = coze.chat.create(\n",
    "        bot_id=bot_id,\n",
    "        user_id=user_id,\n",
    "        additional_messages=[\n",
    "            # Message.build_user_question_text(\"Who are you?\"),\n",
    "            # Message.build_assistant_answer(\"I am Bot by Coze.\"),\n",
    "            Message.build_user_question_text(\"煎虾时应该先给锅放油还是先放虾？\"),\n",
    "        ],\n",
    "    )\n"
   ]
  },
  {
   "cell_type": "code",
   "execution_count": 6,
   "metadata": {},
   "outputs": [],
   "source": [
    "    # Assume the development allows at most one chat to run for 10 minutes. If it exceeds 10\n",
    "    # minutes, the chat will be cancelled.\n",
    "    # And when the chat status is not completed, poll the status of the chat once every second.\n",
    "    # After the chat is completed, retrieve all messages in the chat.\n",
    "start = int(time.time())\n",
    "timeout = 600\n",
    "while chat.status == ChatStatus.IN_PROGRESS:\n",
    "        if int(time.time()) - start > timeout:\n",
    "            # too long, cancel chat\n",
    "            coze.chat.cancel(conversation_id=chat.conversation_id, chat_id=chat.id)\n",
    "            break\n",
    "\n",
    "        time.sleep(1)\n",
    "        # Fetch the latest data through the retrieve interface\n",
    "        chat = coze.chat.retrieve(conversation_id=chat.conversation_id, chat_id=chat.id)\n"
   ]
  },
  {
   "cell_type": "code",
   "execution_count": 7,
   "metadata": {},
   "outputs": [
    {
     "name": "stdout",
     "output_type": "stream",
     "text": [
      "role=MessageRole.ASSISTANT, content={\"msg_type\":\"knowledge_recall\",\"data\":\"{\\\"chunks\\\":[{\\\"slice\\\":\\\"煎虾之前，先用小苏打清洗，一方面可以适当去除孔雀石绿这种公害物质，而另一方 面碱性环境可以加速美拉德反应。\\\\n很多同学照着我提供的菜谱做虾，总是煎不好，就是觉得洗个虾没什么难的，忽略了 小苏打在美拉德反应中的作用。\\\\n我们把锅烧热后，倒高烟点的油，铺满锅底，这时候的油是热能的介质，纯脂肪是不 参与美拉德反应的（可催化，但不参与）。\\\\n*高烟点油，简单讲就是不容易烧出烟的油，冒烟就意味着油质开始恶化。烟点最高的 是牛油果油与茶籽油，大约在 250～270 度，家庭使用压榨菜籽油就可以了，190～220 度左右。黄油烟点垫底（120～150），所以不能早放，没有达到美拉德反应温度时就开 始冒烟。详见 ： http://t.cn/A6pndFvM\\\\n把虾务必要擦干，不仅为了不爆锅，而且也是为了快速进入到美拉德反应的水分比中。\\\\n下虾一个一个下，记住顺序，其实凭颜色也能判断。这时候虾皮会迅速产生美拉德反 应，厨房里肯定充满了焦香。\\\\n虾煎到一面发红，肉呈现半白色，注意，此时其实可以转到中火，以便腾出更多时间 来翻面，此时虾的水分已经蒸发，锅温大致恒定在 140～160 度之间。这是美拉德反应 最好的温度条件。\\\\n*黄油：这个时候按照顺序翻面，加入黄油。黄油与植物油相比较，含有一定量的蛋白 质、氨基酸与糖，自身就能发生美拉德反应，遇热后成为液体附着在食材上，让食材 全面美拉德化。\\\\n不能过早加入黄油是因为黄油遇热容易产生大分子的褐色蛋白，等你一个个翻面之后 就可能焦糊，除非你技巧娴熟到一颠锅就能让所有的虾翻面。\\\\n加入黄油后保持中火，再煎熟另一面。你会发现煎虾的香味升级了，这是因为黄油内 的蛋白质也参与到美拉德反应中，而且黄油是液体，能渗透到虾壳与虾肉里。\\\\n此时美拉德反应最迅速，也是最充分的时候。具备了温度、蛋白质、水分比等所有最 优条件。\\\",\\\"score\\\":0.98046875,\\\"meta\\\":{\\\"dataset\\\":{\\\"id\\\":\\\"7471915812086235174\\\",\\\"name\\\":\\\"美拉德反应\\\"},\\\"document\\\":{\\\"id\\\":\\\"7471909128174420009\\\",\\\"name\\\":\\\"美拉德反应与火力大小以及油的关系.pdf\\\",\\\"format_type\\\":0,\\\"source_type\\\":0},\\\"link\\\":{\\\"title\\\":\\\"美拉德反应_美拉德反应与火力大小以及油的关系.pdf\\\",\\\"url\\\":\\\"https://lf26-appstore-sign.oceancloudapi.com/ocean-cloud-tos/FileBizType.BIZ_BOT_DATASET/1722295193192427_1739691675082408559_eSxtPV7tnW.pdf?lk3s=61a3dea3\\\\u0026x-expires=1742804118\\\\u0026x-signature=JUgfm4ZCb9nC3AEEAqaiAYK3Nuk%3D\\\"},\\\"card\\\":{\\\"title\\\":\\\"美拉德反应与火力大小以及油的关系.pdf\\\",\\\"con\\\":\\\"煎虾之前，先用小苏打清洗，一方面可以适当去除孔雀石绿这种公害物质，而另一方 面碱性环境可以加速美拉德反应。\\\\n很多同学照着我提供的菜谱做虾，总是煎不好，就是觉得洗个虾没什么难的，忽略了 小苏打在美拉德反应中的作用。\\\\n我们把锅烧热后，倒高烟点的油，铺满锅底，这时候的油是热能的介质，纯脂肪是不 参与美拉德反应的（可催化，但不参与）。\\\\n*高烟点油，简单讲就是不容易烧出烟的油，冒烟就意味着油质开始恶化。烟点最高的 是牛油果油与茶籽油，大约在 250～270 度，家庭使用压榨菜籽油就可以了，190～220 度左右。黄油烟点垫底（120～150），所以不能早放，没有达到美拉德反应温度时就开 始冒烟。详见 ： http://t.cn/A6pndFvM\\\\n把虾务必要擦干，不仅为了不爆锅，而且也是为了快速进入到美拉德反应的水分比中。\\\\n下虾一个一个下，记住顺序，其实凭颜色也能判断。这时候虾皮会迅速产生美拉德反 应，厨房里肯定充满了焦香。\\\\n虾煎到一面发红，肉呈现半白色，注意，此时其实可以转到中火，以便腾出更多时间 来翻面，此时虾的水分已经蒸发，锅温大致恒定在 140～160 度之间。这是美拉德反应 最好的温度条件。\\\\n*黄油：这个时候按照顺序翻面，加入黄油。黄油与植物油相比较，含有一定量的蛋白 质、氨基酸与糖，自身就能发生美拉德反应，遇热后成为液体附着在食材上，让食材 全面美拉德化。\\\\n不能过早加入黄油是因为黄油遇热容易产生大分子的褐色蛋白，等你一个个翻面之后 就可能焦糊，除非你技巧娴熟到一颠锅就能让所有的虾翻面。\\\\n加入黄油后保持中火，再煎熟另一面。你会发现煎虾的香味升级了，这是因为黄油内 的蛋白质也参与到美拉德反应中，而且黄油是液体，能渗透到虾壳与虾肉里。\\\\n此时美拉德反应最迅速，也是最充分的时候。具备了温度、蛋白质、水分比等所有最 优条件。\\\",\\\"index\\\":\\\"1\\\"}}},{\\\"slice\\\":\\\"千万不要浪费这么完美的温度与油，调整到小火，把锅向一方倾斜，形成一个小油池， 用勺子舀起来浇淋虾肉，让刚才没被黄油炸到的虾也充分与黄油接触。\\\\n如果你技巧超高的话，其实也是可以直接把蒜片一起炸了，但虾与蒜的熟成时机要高 度一致，很不好做到。我们的蒜蓉是之后单独处理的，这里就什么也不放了。\\\\n充分浇淋后，关火，把虾夹出来，放在漏勺里把多余的油控出去，必要时可以盖住用 力甩油。\\\\n我们即要利用油加速美拉德反应，同时还要尽量少吃到油。\\\\n其实煎牛排的原理也大同小异，不过牛肉品种、部位、厚度以及追求的风味太过庞大 繁杂，网上也有很多教程，这里就不班门弄斧了，能煎出一锅很棒的虾对我来说已经 很知足了。\\\\n这些原理讲起来复杂，在实际操作中就发生在几分钟、甚至是几十秒的事情。只有原 理通透了，执行起来才有明确方向与标准，更从容规划方法与步骤。所谓的“手艺” 其实不仅是手的事情，更多的还是要靠脑袋。\\\",\\\"score\\\":0.93994140625,\\\"meta\\\":{\\\"dataset\\\":{\\\"id\\\":\\\"7471915812086235174\\\",\\\"name\\\":\\\"美拉德反应\\\"},\\\"document\\\":{\\\"id\\\":\\\"7471909128174420009\\\",\\\"name\\\":\\\"美拉德反应与火力大小以及油的关系.pdf\\\",\\\"format_type\\\":0,\\\"source_type\\\":0},\\\"link\\\":{\\\"title\\\":\\\"美拉德反应_美拉德反应与火力大小以及油的关系.pdf\\\",\\\"url\\\":\\\"https://lf26-appstore-sign.oceancloudapi.com/ocean-cloud-tos/FileBizType.BIZ_BOT_DATASET/1722295193192427_1739691675082408559_eSxtPV7tnW.pdf?lk3s=61a3dea3\\\\u0026x-expires=1742804118\\\\u0026x-signature=JUgfm4ZCb9nC3AEEAqaiAYK3Nuk%3D\\\"},\\\"card\\\":{\\\"title\\\":\\\"美拉德反应与火力大小以及油的关系.pdf\\\",\\\"con\\\":\\\"千万不要浪费这么完美的温度与油，调整到小火，把锅向一方倾斜，形成一个小油池， 用勺子舀起来浇淋虾肉，让刚才没被黄油炸到的虾也充分与黄油接触。\\\\n如果你技巧超高的话，其实也是可以直接把蒜片一起炸了，但虾与蒜的熟成时机要高 度一致，很不好做到。我们的蒜蓉是之后单独处理的，这里就什么也不放了。\\\\n充分浇淋后，关火，把虾夹出来，放在漏勺里把多余的油控出去，必要时可以盖住用 力甩油。\\\\n我们即要利用油加速美拉德反应，同时还要尽量少吃到油。\\\\n其实煎牛排的原理也大同小异，不过牛肉品种、部位、厚度以及追求的风味太过庞大 繁杂，网上也有很多教程，这里就不班门弄斧了，能煎出一锅很棒的虾对我来说已经 很知足了。\\\\n这些原理讲起来复杂，在实际操作中就发生在几分钟、甚至是几十秒的事情。只有原 理通透了，执行起来才有明确方向与标准，更从容规划方法与步骤。所谓的“手艺” 其实不仅是手的事情，更多的还是要靠脑袋。\\\",\\\"index\\\":\\\"2\\\"}}},{\\\"slice\\\":\\\"美拉德反应与火力大小以及油的关系\\\\n如果你长期煎牛排，大概就会知道火力与油的关系，你也会体会到煎牛排的所有宗旨 都是围绕着“如何快速且充分触发美拉德反应”这一核心使命的。\\\\n美拉德反应（Maillard Reaction)是什么自己查。这里的简单版本就是：在特定温度、特 定酸碱度、特定水分比例的条件下，使蛋白质与碳水化物焦香化的一种热反应。\\\\n*温度：这就是为什么煎牛排一定要把锅烧到很热，满足 140～160 度美拉德反应的最 佳温度。\\\\n*锅：选择生铁的厚铸铁锅，也是因为导热慢，比热容相对较大，这样容易把温度控制 在美拉德反应的甜蜜区间。所以，生铁铸铁锅是煎一切蛋白质和碳水的首选，包括一 个简单的煎鸡蛋（有同学提到铜煎锅，一口不错的铜锅价格不菲，各位酌情选择）。\\\\n*水分：食材水分在 10～15%的时候，美拉德反应速度最快，这就是为什么我们在下锅 煎之前，务必要用吸水纸把食材反复擦干的原因。\\\\n*酸碱性：当食物处于碱性液体环境时，美拉德反应也会加剧。\\\\n反应到我们日常烹饪操作，就是热锅、尽量擦干食材、适量的小苏打。\\\\n了解了原理，我们就可以主动判断大火、中火、小火的顺序与时机了。\\\\n煎炸食物时，起锅大火，为了让温度升高到 140～160 度之间，迅速全面地直接触发食 材的美拉德反应。中途火力的一切调整，都为了让锅内温度持续在甜美区间，过热则 焦。\\\\n这时候比热容大、导热慢的铸铁锅就显得非常重要的，容错率高，就提供了更多的可 操作时间，包括调整、翻面等动作。\\\\n但今天我们不说煎牛排，我们说如何煎一锅脆皮焦香的好虾。\\\\n虾肉当然是蛋白质，要注意的是虾壳也是由蛋白质、几丁质和矿物质组成（与螃蟹壳 不一样，螃蟹、贝类的主要成分是甲壳质，其中大部分是碳酸钙）。\\\\n所以，虾壳也是可以触发美拉德反应的，几丁质是一种多糖，也参与反应（这也是甲 壳类的虫子普遍适合油炸的原因，昆虫壳构成更接近于虾）。\\\",\\\"score\\\":0.6005859375,\\\"meta\\\":{\\\"dataset\\\":{\\\"id\\\":\\\"7471915812086235174\\\",\\\"name\\\":\\\"美拉德反应\\\"},\\\"document\\\":{\\\"id\\\":\\\"7471909128174420009\\\",\\\"name\\\":\\\"美拉德反应与火力大小以及油的关系.pdf\\\",\\\"format_type\\\":0,\\\"source_type\\\":0},\\\"link\\\":{\\\"title\\\":\\\"美拉德反应_美拉德反应与火力大小以及油的关系.pdf\\\",\\\"url\\\":\\\"https://lf26-appstore-sign.oceancloudapi.com/ocean-cloud-tos/FileBizType.BIZ_BOT_DATASET/1722295193192427_1739691675082408559_eSxtPV7tnW.pdf?lk3s=61a3dea3\\\\u0026x-expires=1742804118\\\\u0026x-signature=JUgfm4ZCb9nC3AEEAqaiAYK3Nuk%3D\\\"},\\\"card\\\":{\\\"title\\\":\\\"美拉德反应与火力大小以及油的关系.pdf\\\",\\\"con\\\":\\\"美拉德反应与火力大小以及油的关系\\\\n如果你长期煎牛排，大概就会知道火力与油的关系，你也会体会到煎牛排的所有宗旨 都是围绕着“如何快速且充分触发美拉德反应”这一核心使命的。\\\\n美拉德反应（Maillard Reaction)是什么自己查。这里的简单版本就是：在特定温度、特 定酸碱度、特定水分比例的条件下，使蛋白质与碳水化物焦香化的一种热反应。\\\\n*温度：这就是为什么煎牛排一定要把锅烧到很热，满足 140～160 度美拉德反应的最 佳温度。\\\\n*锅：选择生铁的厚铸铁锅，也是因为导热慢，比热容相对较大，这样容易把温度控制 在美拉德反应的甜蜜区间。所以，生铁铸铁锅是煎一切蛋白质和碳水的首选，包括一 个简单的煎鸡蛋（有同学提到铜煎锅，一口不错的铜锅价格不菲，各位酌情选择）。\\\\n*水分：食材水分在 10～15%的时候，美拉德反应速度最快，这就是为什么我们在下锅 煎之前，务必要用吸水纸把食材反复擦干的原因。\\\\n*酸碱性：当食物处于碱性液体环境时，美拉德反应也会加剧。\\\\n反应到我们日常烹饪操作，就是热锅、尽量擦干食材、适量的小苏打。\\\\n了解了原理，我们就可以主动判断大火、中火、小火的顺序与时机了。\\\\n煎炸食物时，起锅大火，为了让温度升高到 140～160 度之间，迅速全面地直接触发食 材的美拉德反应。中途火力的一切调整，都为了让锅内温度持续在甜美区间，过热则 焦。\\\\n这时候比热容大、导热慢的铸铁锅就显得非常重要的，容错率高，就提供了更多的可 操作时间，包括调整、翻面等动作。\\\\n但今天我们不说煎牛排，我们说如何煎一锅脆皮焦香的好虾。\\\\n虾肉当然是蛋白质，要注意的是虾壳也是由蛋白质、几丁质和矿物质组成（与螃蟹壳 不一样，螃蟹、贝类的主要成分是甲壳质，其中大部分是碳酸钙）。\\\\n所以，虾壳也是可以触发美拉德反应的，几丁质是一种多糖，也参与反应（这也是甲 壳类的虫子普遍适合油炸的原因，昆虫壳构成更接近于虾）。\\\",\\\"index\\\":\\\"3\\\"}}}]}\"}\n",
      "role=MessageRole.ASSISTANT, content=煎虾时应该先给锅放油。具体操作是把锅烧热后，倒高烟点的油，铺满锅底，之后把擦干的虾一个一个下锅。  \n",
      "role=MessageRole.ASSISTANT, content={\"msg_type\":\"generate_answer_finish\",\"data\":\"{\\\"finish_reason\\\":0,\\\"FinData\\\":\\\"\\\"}\",\"from_module\":null,\"from_unit\":null}\n",
      "role=MessageRole.ASSISTANT, content=煎虾的过程中需要翻面吗？\n",
      "role=MessageRole.ASSISTANT, content=煎虾的时间一般是多久？\n",
      "role=MessageRole.ASSISTANT, content=煎虾时可以加一些配菜吗？\n"
     ]
    }
   ],
   "source": [
    "# When the chat status becomes completed, all messages under this chat can be retrieved through the list messages interface.\n",
    "messages = coze.chat.messages.list(conversation_id=chat.conversation_id, chat_id=chat.id)\n",
    "for message in messages:\n",
    "        print(f\"role={message.role}, content={message.content}\")"
   ]
  },
  {
   "cell_type": "code",
   "execution_count": 8,
   "metadata": {},
   "outputs": [
    {
     "name": "stdout",
     "output_type": "stream",
     "text": [
      "煎虾时应该先给锅放油。具体操作是把锅烧热后，倒高烟点的油，铺满锅底，之后把擦干的虾一个一个下锅。  \n"
     ]
    }
   ],
   "source": [
    "print(messages[1].content)"
   ]
  },
  {
   "cell_type": "code",
   "execution_count": 11,
   "metadata": {},
   "outputs": [
    {
     "data": {
      "text/plain": [
       "Message(role=<MessageRole.ASSISTANT: 'assistant'>, type=<MessageType.FOLLOW_UP: 'follow_up'>, content='煎虾的过程中需要翻面吗？', content_type=<MessageContentType.TEXT: 'text'>, meta_data=None, id='7474154147894296602', conversation_id='7474154121335963658', section_id=None, bot_id='7471918474705747977', chat_id='7474154121335980042', created_at=1740212122, updated_at=1740212121)"
      ]
     },
     "execution_count": 11,
     "metadata": {},
     "output_type": "execute_result"
    }
   ],
   "source": [
    "messages[3]"
   ]
  },
  {
   "cell_type": "code",
   "execution_count": 17,
   "metadata": {},
   "outputs": [
    {
     "name": "stdout",
     "output_type": "stream",
     "text": [
      "煎虾时应该先给锅放油。具体操作是把锅烧热后，倒高烟点的油，铺满锅底，之后把擦干的虾一个一个下锅。  \n",
      "['煎虾的过程中需要翻面吗？', '煎虾的时间一般是多久？', '煎虾时可以加一些配菜吗？']\n"
     ]
    }
   ],
   "source": [
    "messages_answer = \"\"\n",
    "messages_follow_up = []\n",
    "\n",
    "for message in messages:\n",
    "    if message.type == \"answer\":\n",
    "        messages_answer = message.content\n",
    "    elif message.type == \"follow_up\":\n",
    "        messages_follow_up.append(message.content)\n",
    "\n",
    "print(messages_answer)\n",
    "print(messages_follow_up)\n"
   ]
  }
 ],
 "metadata": {
  "kernelspec": {
   "display_name": "Python 3",
   "language": "python",
   "name": "python3"
  },
  "language_info": {
   "codemirror_mode": {
    "name": "ipython",
    "version": 3
   },
   "file_extension": ".py",
   "mimetype": "text/x-python",
   "name": "python",
   "nbconvert_exporter": "python",
   "pygments_lexer": "ipython3",
   "version": "3.11.3"
  }
 },
 "nbformat": 4,
 "nbformat_minor": 2
}
